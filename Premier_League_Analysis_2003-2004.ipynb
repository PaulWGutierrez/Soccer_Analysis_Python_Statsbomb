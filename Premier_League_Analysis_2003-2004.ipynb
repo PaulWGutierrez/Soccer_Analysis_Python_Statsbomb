{
 "cells": [
  {
   "cell_type": "code",
   "execution_count": 52,
   "id": "ff9cbe07",
   "metadata": {},
   "outputs": [],
   "source": [
    "#Load in Statsbomb competition and match data\n",
    "import json"
   ]
  },
  {
   "cell_type": "code",
   "execution_count": 53,
   "id": "77856161",
   "metadata": {},
   "outputs": [],
   "source": [
    "#Load the competition file\n",
    "#Got this by searching 'how do I open json in Python'\n",
    "with open('Statsbomb/data/competitions.json') as f:\n",
    "    competitions = json.load(f)"
   ]
  },
  {
   "cell_type": "code",
   "execution_count": 54,
   "id": "15630353",
   "metadata": {},
   "outputs": [],
   "source": [
    "#2003/2004 Premier League has competition ID 2\n",
    "competition_id=2"
   ]
  },
  {
   "cell_type": "code",
   "execution_count": 55,
   "id": "a1166d3f",
   "metadata": {},
   "outputs": [],
   "source": [
    "#Load the list of matches for this competition\n",
    "with open('Statsbomb/data/matches/'+str(competition_id)+'/44.json') as f:\n",
    "    matches = json.load(f)"
   ]
  },
  {
   "cell_type": "code",
   "execution_count": 56,
   "id": "6618009d",
   "metadata": {},
   "outputs": [
    {
     "data": {
      "text/plain": [
       "{'match_id': 3749079,\n",
       " 'match_date': '2003-10-18',\n",
       " 'kick_off': '16:00:00.000',\n",
       " 'competition': {'competition_id': 2,\n",
       "  'country_name': 'England',\n",
       "  'competition_name': 'Premier League'},\n",
       " 'season': {'season_id': 44, 'season_name': '2003/2004'},\n",
       " 'home_team': {'home_team_id': 1,\n",
       "  'home_team_name': 'Arsenal',\n",
       "  'home_team_gender': 'male',\n",
       "  'home_team_group': None,\n",
       "  'country': {'id': 68, 'name': 'England'},\n",
       "  'managers': [{'id': 577,\n",
       "    'name': 'Arsène Wenger',\n",
       "    'nickname': None,\n",
       "    'dob': '1949-10-22',\n",
       "    'country': {'id': 78, 'name': 'France'}}]},\n",
       " 'away_team': {'away_team_id': 33,\n",
       "  'away_team_name': 'Chelsea',\n",
       "  'away_team_gender': 'male',\n",
       "  'away_team_group': None,\n",
       "  'country': {'id': 68, 'name': 'England'},\n",
       "  'managers': [{'id': 60,\n",
       "    'name': 'Claudio Ranieri',\n",
       "    'nickname': None,\n",
       "    'dob': '1951-10-20',\n",
       "    'country': {'id': 112, 'name': 'Italy'}}]},\n",
       " 'home_score': 2,\n",
       " 'away_score': 1,\n",
       " 'match_status': 'available',\n",
       " 'match_status_360': 'scheduled',\n",
       " 'last_updated': '2020-07-29T05:00',\n",
       " 'last_updated_360': '2021-06-13T16:17:31.694',\n",
       " 'metadata': {'data_version': '1.1.0',\n",
       "  'shot_fidelity_version': '2',\n",
       "  'xy_fidelity_version': '2'},\n",
       " 'match_week': 9,\n",
       " 'competition_stage': {'id': 1, 'name': 'Regular Season'},\n",
       " 'stadium': {'id': 1000243,\n",
       "  'name': 'Highbury Stadium',\n",
       "  'country': {'id': 68, 'name': 'England'}}}"
      ]
     },
     "execution_count": 56,
     "metadata": {},
     "output_type": "execute_result"
    }
   ],
   "source": [
    "#Look inside matches (8)\n",
    "matches[8]"
   ]
  },
  {
   "cell_type": "code",
   "execution_count": 57,
   "id": "721140c5",
   "metadata": {},
   "outputs": [
    {
     "data": {
      "text/plain": [
       "{'home_team_id': 1,\n",
       " 'home_team_name': 'Arsenal',\n",
       " 'home_team_gender': 'male',\n",
       " 'home_team_group': None,\n",
       " 'country': {'id': 68, 'name': 'England'},\n",
       " 'managers': [{'id': 577,\n",
       "   'name': 'Arsène Wenger',\n",
       "   'nickname': None,\n",
       "   'dob': '1949-10-22',\n",
       "   'country': {'id': 78, 'name': 'France'}}]}"
      ]
     },
     "execution_count": 57,
     "metadata": {},
     "output_type": "execute_result"
    }
   ],
   "source": [
    "#Look inside matches (8)\n",
    "matches[8]['home_team']"
   ]
  },
  {
   "cell_type": "code",
   "execution_count": 58,
   "id": "05016227",
   "metadata": {},
   "outputs": [
    {
     "data": {
      "text/plain": [
       "'Arsenal'"
      ]
     },
     "execution_count": 58,
     "metadata": {},
     "output_type": "execute_result"
    }
   ],
   "source": [
    "#Look inside matches (8)\n",
    "matches[8]['home_team']['home_team_name']"
   ]
  },
  {
   "cell_type": "code",
   "execution_count": 59,
   "id": "c8ff3aea",
   "metadata": {},
   "outputs": [
    {
     "data": {
      "text/plain": [
       "'Chelsea'"
      ]
     },
     "execution_count": 59,
     "metadata": {},
     "output_type": "execute_result"
    }
   ],
   "source": [
    "#Look inside matches (8)\n",
    "matches[8]['away_team']['away_team_name']"
   ]
  },
  {
   "cell_type": "code",
   "execution_count": 60,
   "id": "d1867f3d",
   "metadata": {},
   "outputs": [
    {
     "data": {
      "text/plain": [
       "2"
      ]
     },
     "execution_count": 60,
     "metadata": {},
     "output_type": "execute_result"
    }
   ],
   "source": [
    "#Final score\n",
    "matches[8]['home_score']"
   ]
  },
  {
   "cell_type": "code",
   "execution_count": 61,
   "id": "61185f03",
   "metadata": {},
   "outputs": [
    {
     "data": {
      "text/plain": [
       "1"
      ]
     },
     "execution_count": 61,
     "metadata": {},
     "output_type": "execute_result"
    }
   ],
   "source": [
    "#Final score\n",
    "matches[8]['away_score']"
   ]
  },
  {
   "cell_type": "code",
   "execution_count": 63,
   "id": "db0716f9",
   "metadata": {},
   "outputs": [
    {
     "name": "stdout",
     "output_type": "stream",
     "text": [
      "The final score is 2 : 1\n"
     ]
    }
   ],
   "source": [
    "home_score = matches[8]['home_score']\n",
    "away_score = matches[8]['away_score']\n",
    "final_score = 'The final score is ' + str(home_score) + ' : ' + str(away_score)\n",
    "print(final_score)"
   ]
  },
  {
   "cell_type": "code",
   "execution_count": 9,
   "id": "d0f4ca84",
   "metadata": {},
   "outputs": [
    {
     "name": "stdout",
     "output_type": "stream",
     "text": [
      "The match between Jamaica Women's and Australia Women's finished 1 : 4\n",
      "The match between Norway Women's and Australia Women's finished 1 : 1\n",
      "The match between Australia Women's and Italy Women's finished 1 : 2\n",
      "The match between Argentina Women's and Japan Women's finished 0 : 0\n",
      "The match between United States Women's and Thailand Women's finished 13 : 0\n",
      "The match between Chile Women's and Sweden Women's finished 0 : 2\n",
      "The match between Nigeria Women's and Korea Republic Women's finished 2 : 0\n",
      "The match between Germany Women's and Spain Women's finished 1 : 0\n",
      "The match between South Africa Women's and China PR Women's finished 0 : 1\n",
      "The match between Jamaica Women's and Italy Women's finished 0 : 5\n",
      "The match between Japan Women's and Scotland Women's finished 2 : 1\n",
      "The match between Netherlands Women's and Cameroon Women's finished 3 : 1\n",
      "The match between Canada Women's and New Zealand Women's finished 2 : 0\n",
      "The match between Netherlands Women's and Canada Women's finished 2 : 1\n",
      "The match between Sweden Women's and United States Women's finished 0 : 2\n",
      "The match between Sweden Women's and Canada Women's finished 1 : 0\n",
      "The match between Cameroon Women's and New Zealand Women's finished 2 : 1\n",
      "The match between Germany Women's and Nigeria Women's finished 3 : 0\n",
      "The match between England Women's and Sweden Women's finished 1 : 2\n",
      "The match between France Women's and Brazil Women's finished 2 : 1\n",
      "The match between Germany Women's and Sweden Women's finished 1 : 2\n",
      "The match between England Women's and Scotland Women's finished 2 : 1\n",
      "The match between Sweden Women's and Thailand Women's finished 5 : 1\n",
      "The match between Japan Women's and England Women's finished 0 : 2\n",
      "The match between Korea Republic Women's and Norway Women's finished 1 : 2\n",
      "The match between United States Women's and Chile Women's finished 3 : 0\n",
      "The match between Norway Women's and Nigeria Women's finished 3 : 0\n",
      "The match between United States Women's and Netherlands Women's finished 2 : 0\n",
      "The match between China PR Women's and Spain Women's finished 0 : 0\n",
      "The match between Italy Women's and Brazil Women's finished 0 : 1\n",
      "The match between France Women's and Korea Republic Women's finished 4 : 0\n",
      "The match between Germany Women's and China PR Women's finished 1 : 0\n",
      "The match between Spain Women's and South Africa Women's finished 3 : 1\n",
      "The match between Brazil Women's and Jamaica Women's finished 3 : 0\n",
      "The match between Canada Women's and Cameroon Women's finished 1 : 0\n",
      "The match between France Women's and United States Women's finished 1 : 2\n",
      "The match between New Zealand Women's and Netherlands Women's finished 0 : 1\n",
      "The match between France Women's and Norway Women's finished 2 : 1\n",
      "The match between Australia Women's and Brazil Women's finished 3 : 2\n",
      "The match between England Women's and Argentina Women's finished 1 : 0\n",
      "The match between Nigeria Women's and France Women's finished 0 : 1\n",
      "The match between South Africa Women's and Germany Women's finished 0 : 4\n",
      "The match between Scotland Women's and Argentina Women's finished 3 : 3\n",
      "The match between Thailand Women's and Chile Women's finished 0 : 2\n",
      "The match between England Women's and Cameroon Women's finished 3 : 0\n",
      "The match between Italy Women's and China PR Women's finished 2 : 0\n",
      "The match between Netherlands Women's and Japan Women's finished 2 : 1\n",
      "The match between Norway Women's and England Women's finished 0 : 3\n",
      "The match between England Women's and United States Women's finished 1 : 2\n",
      "The match between Netherlands Women's and Sweden Women's finished 1 : 0\n",
      "The match between Italy Women's and Netherlands Women's finished 0 : 2\n",
      "The match between Spain Women's and United States Women's finished 1 : 2\n"
     ]
    }
   ],
   "source": [
    "#Print all match results\n",
    "for match in matches:\n",
    "    home_team_name=match['home_team']['home_team_name']\n",
    "    away_team_name=match['away_team']['away_team_name']\n",
    "    home_score=match['home_score']\n",
    "    away_score=match['away_score']\n",
    "    describe_text = 'The match between ' + home_team_name + ' and ' + away_team_name\n",
    "    result_text = ' finished ' + str(home_score) +  ' : ' + str(away_score)\n",
    "    print(describe_text + result_text)"
   ]
  },
  {
   "cell_type": "code",
   "execution_count": 10,
   "id": "208c9bcc",
   "metadata": {},
   "outputs": [],
   "source": [
    "#Now lets find a match we are interested in\n",
    "home_team_required =\"England Women's\"\n",
    "away_team_required =\"Sweden Women's\""
   ]
  },
  {
   "cell_type": "code",
   "execution_count": 11,
   "id": "89b25bf0",
   "metadata": {},
   "outputs": [
    {
     "name": "stdout",
     "output_type": "stream",
     "text": [
      "England Women's vs Sweden Women's has id:69301\n"
     ]
    }
   ],
   "source": [
    "#Find ID for the match\n",
    "for match in matches:\n",
    "    home_team_name=match['home_team']['home_team_name']\n",
    "    away_team_name=match['away_team']['away_team_name']\n",
    "    if (home_team_name==home_team_required) and (away_team_name==away_team_required):\n",
    "        match_id_required = match['match_id']\n",
    "print(home_team_required + ' vs ' + away_team_required + ' has id:' + str(match_id_required))"
   ]
  },
  {
   "cell_type": "code",
   "execution_count": null,
   "id": "a28c9660",
   "metadata": {},
   "outputs": [],
   "source": [
    "#Exercise: \n",
    "#1, Edit the code above to print out the result list for the Mens World cup \n",
    "#2, Edit the code above to find the ID for England vs. Sweden\n",
    "#3, Write new code to write out a list of just Sweden's results in the tournament."
   ]
  }
 ],
 "metadata": {
  "kernelspec": {
   "display_name": "Python 3 (ipykernel)",
   "language": "python",
   "name": "python3"
  },
  "language_info": {
   "codemirror_mode": {
    "name": "ipython",
    "version": 3
   },
   "file_extension": ".py",
   "mimetype": "text/x-python",
   "name": "python",
   "nbconvert_exporter": "python",
   "pygments_lexer": "ipython3",
   "version": "3.8.2"
  }
 },
 "nbformat": 4,
 "nbformat_minor": 5
}
