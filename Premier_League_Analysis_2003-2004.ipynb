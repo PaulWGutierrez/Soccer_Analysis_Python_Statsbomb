{
 "cells": [
  {
   "cell_type": "code",
   "execution_count": 50,
   "id": "ff9cbe07",
   "metadata": {},
   "outputs": [],
   "source": [
    "#Load in Statsbomb competition and match data\n",
    "import json"
   ]
  },
  {
   "cell_type": "code",
   "execution_count": 51,
   "id": "77856161",
   "metadata": {},
   "outputs": [],
   "source": [
    "#Load the competition file\n",
    "#Got this by searching 'how do I open json in Python'\n",
    "with open('Statsbomb/data/competitions.json') as f:\n",
    "    competitions = json.load(f)"
   ]
  },
  {
   "cell_type": "code",
   "execution_count": 52,
   "id": "15630353",
   "metadata": {},
   "outputs": [],
   "source": [
    "#Womens World Cup 2019 has competition ID 72\n",
    "competition_id=72"
   ]
  },
  {
   "cell_type": "code",
   "execution_count": 53,
   "id": "a1166d3f",
   "metadata": {},
   "outputs": [],
   "source": [
    "#Load the list of matches for this competition\n",
    "with open('Statsbomb/data/matches/'+str(competition_id)+'/30.json') as f:\n",
    "    matches = json.load(f)"
   ]
  },
  {
   "cell_type": "code",
   "execution_count": 54,
   "id": "c8ff3aea",
   "metadata": {},
   "outputs": [
    {
     "data": {
      "text/plain": [
       "\"Australia Women's\""
      ]
     },
     "execution_count": 54,
     "metadata": {},
     "output_type": "execute_result"
    }
   ],
   "source": [
    "#Look inside matches\n",
    "matches[0]\n",
    "matches[0]['home_team']\n",
    "matches[0]['home_team']['home_team_name']\n",
    "matches[0]['away_team']['away_team_name']"
   ]
  },
  {
   "cell_type": "code",
   "execution_count": 34,
   "id": "d0f4ca84",
   "metadata": {},
   "outputs": [
    {
     "name": "stdout",
     "output_type": "stream",
     "text": [
      "The match between Sevilla and Barcelona finished 1 : 2\n",
      "The match between Osasuna and Barcelona finished 0 : 3\n",
      "The match between Real Madrid and Barcelona finished 2 : 3\n",
      "The match between Leganés and Barcelona finished 1 : 5\n",
      "The match between Barcelona and Deportivo Alavés finished 1 : 2\n",
      "The match between Athletic Club and Barcelona finished 0 : 1\n",
      "The match between Barcelona and Atlético Madrid finished 1 : 1\n",
      "The match between Barcelona and Real Betis finished 6 : 2\n",
      "The match between Real Betis and Barcelona finished 1 : 1\n",
      "The match between Las Palmas and Barcelona finished 1 : 4\n",
      "The match between Villarreal and Barcelona finished 1 : 1\n",
      "The match between Barcelona and Osasuna finished 7 : 1\n",
      "The match between Barcelona and Valencia finished 4 : 2\n",
      "The match between Valencia and Barcelona finished 2 : 3\n",
      "The match between Deportivo La Coruna and Barcelona finished 2 : 1\n",
      "The match between Deportivo Alavés and Barcelona finished 0 : 6\n",
      "The match between Barcelona and Las Palmas finished 5 : 0\n",
      "The match between Barcelona and Athletic Club finished 3 : 0\n",
      "The match between Eibar and Barcelona finished 0 : 4\n",
      "The match between Barcelona and Espanyol finished 4 : 1\n",
      "The match between Barcelona and Sevilla finished 3 : 0\n",
      "The match between Barcelona and Eibar finished 4 : 2\n",
      "The match between Barcelona and Real Madrid finished 1 : 1\n",
      "The match between Málaga and Barcelona finished 2 : 0\n",
      "The match between Barcelona and Real Sociedad finished 3 : 2\n",
      "The match between Espanyol and Barcelona finished 0 : 3\n",
      "The match between Barcelona and Villarreal finished 4 : 1\n",
      "The match between Atlético Madrid and Barcelona finished 1 : 2\n",
      "The match between Barcelona and Celta Vigo finished 5 : 0\n",
      "The match between Real Sociedad and Barcelona finished 1 : 1\n",
      "The match between Barcelona and Sporting Gijón finished 6 : 1\n",
      "The match between Barcelona and Deportivo La Coruna finished 4 : 0\n",
      "The match between Barcelona and Leganés finished 2 : 1\n",
      "The match between Barcelona and Granada finished 1 : 0\n"
     ]
    }
   ],
   "source": [
    "#Print all match results\n",
    "for match in matches:\n",
    "    home_team_name=match['home_team']['home_team_name']\n",
    "    away_team_name=match['away_team']['away_team_name']\n",
    "    home_score=match['home_score']\n",
    "    away_score=match['away_score']\n",
    "    describe_text = 'The match between ' + home_team_name + ' and ' + away_team_name\n",
    "    result_text = ' finished ' + str(home_score) +  ' : ' + str(away_score)\n",
    "    print(describe_text + result_text)"
   ]
  },
  {
   "cell_type": "code",
   "execution_count": 7,
   "id": "208c9bcc",
   "metadata": {},
   "outputs": [],
   "source": [
    "#Now lets find a match we are interested in\n",
    "home_team_required =\"England Women's\"\n",
    "away_team_required =\"Sweden Women's\""
   ]
  },
  {
   "cell_type": "code",
   "execution_count": 8,
   "id": "89b25bf0",
   "metadata": {},
   "outputs": [
    {
     "name": "stdout",
     "output_type": "stream",
     "text": [
      "England Women's vs Sweden Women's has id:69301\n"
     ]
    }
   ],
   "source": [
    "#Find ID for the match\n",
    "for match in matches:\n",
    "    home_team_name=match['home_team']['home_team_name']\n",
    "    away_team_name=match['away_team']['away_team_name']\n",
    "    if (home_team_name==home_team_required) and (away_team_name==away_team_required):\n",
    "        match_id_required = match['match_id']\n",
    "print(home_team_required + ' vs ' + away_team_required + ' has id:' + str(match_id_required))"
   ]
  },
  {
   "cell_type": "code",
   "execution_count": null,
   "id": "a28c9660",
   "metadata": {},
   "outputs": [],
   "source": [
    "#Exercise: \n",
    "#1, Edit the code above to print out the result list for the Mens World cup \n",
    "#2, Edit the code above to find the ID for England vs. Sweden\n",
    "#3, Write new code to write out a list of just Sweden's results in the tournament."
   ]
  }
 ],
 "metadata": {
  "kernelspec": {
   "display_name": "Python 3 (ipykernel)",
   "language": "python",
   "name": "python3"
  },
  "language_info": {
   "codemirror_mode": {
    "name": "ipython",
    "version": 3
   },
   "file_extension": ".py",
   "mimetype": "text/x-python",
   "name": "python",
   "nbconvert_exporter": "python",
   "pygments_lexer": "ipython3",
   "version": "3.8.2"
  }
 },
 "nbformat": 4,
 "nbformat_minor": 5
}
